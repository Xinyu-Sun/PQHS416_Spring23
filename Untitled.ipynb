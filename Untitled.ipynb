{
 "cells": [
  {
   "cell_type": "code",
   "execution_count": 1,
   "id": "097bc356-14db-4f53-84c0-27b327306b75",
   "metadata": {},
   "outputs": [
    {
     "name": "stdout",
     "output_type": "stream",
     "text": [
      "9\n",
      "0\n"
     ]
    }
   ],
   "source": [
    "min_list = [10, 3, 5, 7, 0, 7,5,3,1]\n",
    "print(len(min_list))\n",
    "#min_num=min_list[0]\n",
    "for i in range(0,len(min_list)):\n",
    "    \n",
    "    if i ==0:\n",
    "        min_num=min_list[i]\n",
    "        \n",
    "    else:\n",
    "        if min_list[i] < min_num:\n",
    "            min_num = min_list[i]\n",
    "print(min_num)"
   ]
  },
  {
   "cell_type": "code",
   "execution_count": null,
   "id": "13505f82-124a-47f7-ba3d-9df5834fddfc",
   "metadata": {},
   "outputs": [],
   "source": []
  }
 ],
 "metadata": {
  "kernelspec": {
   "display_name": "Python 3 (ipykernel)",
   "language": "python",
   "name": "python3"
  },
  "language_info": {
   "codemirror_mode": {
    "name": "ipython",
    "version": 3
   },
   "file_extension": ".py",
   "mimetype": "text/x-python",
   "name": "python",
   "nbconvert_exporter": "python",
   "pygments_lexer": "ipython3",
   "version": "3.10.8"
  }
 },
 "nbformat": 4,
 "nbformat_minor": 5
}
